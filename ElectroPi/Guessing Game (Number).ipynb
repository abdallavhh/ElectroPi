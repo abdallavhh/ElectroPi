{
 "cells": [
  {
   "cell_type": "code",
   "execution_count": 1,
   "id": "b45a61df",
   "metadata": {},
   "outputs": [],
   "source": [
    "import random"
   ]
  },
  {
   "cell_type": "code",
   "execution_count": 2,
   "id": "68045487",
   "metadata": {},
   "outputs": [],
   "source": [
    "actual = random.randint(0, 100)"
   ]
  },
  {
   "cell_type": "code",
   "execution_count": 3,
   "id": "11817d95",
   "metadata": {},
   "outputs": [
    {
     "data": {
      "text/plain": [
       "29"
      ]
     },
     "execution_count": 3,
     "metadata": {},
     "output_type": "execute_result"
    }
   ],
   "source": [
    "actual"
   ]
  },
  {
   "cell_type": "code",
   "execution_count": 15,
   "id": "db2b7801",
   "metadata": {},
   "outputs": [
    {
     "name": "stdout",
     "output_type": "stream",
     "text": [
      "Enter Your Gessing Number: a\n",
      "You did not Enter a number, Try again.\n",
      "Enter Your Gessing Number: 10\n",
      "wrong number, Please Try again.\n",
      "Enter Your Gessing Number: 120\n",
      "Number out of range, Try again.\n",
      "Enter Your Gessing Number: -20\n",
      "Number out of range, Try again.\n",
      "Enter Your Gessing Number: 30\n",
      "You are getting closer\n",
      "Enter Your Gessing Number: 20\n",
      "You are getting further\n",
      "Enter Your Gessing Number: 29\n",
      "You Guessed the correct number in 3 times\n"
     ]
    }
   ],
   "source": [
    "guesses = []\n",
    "while True:\n",
    "    try:\n",
    "        guess = int(input(\"Enter Your Gessing Number: \"))\n",
    "    except ValueError:\n",
    "        print(\"You did not Enter a number, Try again.\")\n",
    "        continue\n",
    "    if (guess > 100) or (guess < 0):\n",
    "        print(\"Number out of range, Try again.\")\n",
    "        continue\n",
    "    if actual == guess:\n",
    "        print('You Guessed the correct number in', len(guesses), 'times')\n",
    "        guesses.append(guess)\n",
    "        break\n",
    "    if len(guesses) <= 0:\n",
    "        print('wrong number, Please Try again.')\n",
    "        guesses.append(guess)\n",
    "    elif abs(guess - actual) > abs(guesses[-1] - actual):\n",
    "        print('You are getting further')\n",
    "        guesses.append(guess)\n",
    "    else:\n",
    "        print('You are getting closer')\n",
    "        guesses.append(guess)"
   ]
  },
  {
   "cell_type": "code",
   "execution_count": 16,
   "id": "70ed7139",
   "metadata": {},
   "outputs": [
    {
     "data": {
      "text/plain": [
       "[10, 30, 20, 29]"
      ]
     },
     "execution_count": 16,
     "metadata": {},
     "output_type": "execute_result"
    }
   ],
   "source": [
    "guesses"
   ]
  },
  {
   "cell_type": "code",
   "execution_count": null,
   "id": "5f268c12",
   "metadata": {},
   "outputs": [],
   "source": []
  }
 ],
 "metadata": {
  "kernelspec": {
   "display_name": "Python 3 (ipykernel)",
   "language": "python",
   "name": "python3"
  },
  "language_info": {
   "codemirror_mode": {
    "name": "ipython",
    "version": 3
   },
   "file_extension": ".py",
   "mimetype": "text/x-python",
   "name": "python",
   "nbconvert_exporter": "python",
   "pygments_lexer": "ipython3",
   "version": "3.11.4"
  }
 },
 "nbformat": 4,
 "nbformat_minor": 5
}

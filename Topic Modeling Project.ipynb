{
 "cells": [
  {
   "cell_type": "code",
   "execution_count": 21,
   "id": "0aefebc2",
   "metadata": {},
   "outputs": [],
   "source": [
    "world_polarity = {\n",
    "    'sport' : ['football', 'studiam', 'ball'],\n",
    "     'food' : ['eat', 'drink', 'juce', 'orange', 'apple']    \n",
    "}"
   ]
  },
  {
   "cell_type": "code",
   "execution_count": 22,
   "id": "2710a293",
   "metadata": {},
   "outputs": [],
   "source": [
    "sentence1 = 'i want to play football'\n",
    "sentence2 = 'i want to eat an apple'"
   ]
  },
  {
   "cell_type": "code",
   "execution_count": 25,
   "id": "3ab119e4",
   "metadata": {},
   "outputs": [
    {
     "name": "stdout",
     "output_type": "stream",
     "text": [
      "sport\n"
     ]
    }
   ],
   "source": [
    "sport = 0\n",
    "food = 0\n",
    "for word in sentence1.split():\n",
    "    if word in world_polarity['sport']:\n",
    "        sport += 1\n",
    "    elif word in world_polarity['food']:\n",
    "        food += 1\n",
    "if sport > food and sport:\n",
    "    print('sport')\n",
    "if food > sport and food:\n",
    "    print('food')"
   ]
  },
  {
   "cell_type": "code",
   "execution_count": null,
   "id": "7f8a6d7f",
   "metadata": {},
   "outputs": [],
   "source": []
  },
  {
   "cell_type": "code",
   "execution_count": null,
   "id": "900c4bb7",
   "metadata": {},
   "outputs": [],
   "source": []
  },
  {
   "cell_type": "code",
   "execution_count": null,
   "id": "8cf02ee2",
   "metadata": {},
   "outputs": [],
   "source": []
  }
 ],
 "metadata": {
  "kernelspec": {
   "display_name": "Python 3 (ipykernel)",
   "language": "python",
   "name": "python3"
  },
  "language_info": {
   "codemirror_mode": {
    "name": "ipython",
    "version": 3
   },
   "file_extension": ".py",
   "mimetype": "text/x-python",
   "name": "python",
   "nbconvert_exporter": "python",
   "pygments_lexer": "ipython3",
   "version": "3.11.4"
  }
 },
 "nbformat": 4,
 "nbformat_minor": 5
}
